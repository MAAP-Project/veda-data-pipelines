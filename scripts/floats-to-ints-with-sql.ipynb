{
 "cells": [
  {
   "cell_type": "code",
   "execution_count": 1,
   "id": "4fc68701",
   "metadata": {},
   "outputs": [],
   "source": [
    "from pystac_client import Client\n",
    "import pystac\n",
    "import stackstac\n",
    "from pystac.extensions.projection import ProjectionExtension\n",
    "from pystac.extensions.raster import RasterExtension"
   ]
  },
  {
   "cell_type": "markdown",
   "id": "75aeb4df",
   "metadata": {},
   "source": [
    "# Resolve ints stored as floats\n",
    "\n",
    "Goal of this notebook is to test and resolve the integers being stored as floats in the MAAP VEDA pgSTAC database.\n",
    "\n",
    "## 1. Determinte what extensions are being used to identify which schemas to check for integer fields which need to be updated.\n",
    "\n",
    "What extensions are being used?\n",
    "in veda data pipelines, we use rio_stac.create_stac_item to build stac metadata. \n",
    "https://github.com/MAAP-Project/veda-data-pipelines/blob/main/lambdas/build-stac/utils/stac.py#L56\n",
    "\n",
    "I couldn't know what version of rio-stac is being used, but downloading the build-stac lambda docker image from our MAAP VEDA TEst stack in UAH returned 0.4.2\n",
    "\n",
    "```\n",
    "root@2b637b648fe7:/app# pip show rio-stac\n",
    "Name: rio-stac\n",
    "Version: 0.4.2\n",
    "```\n",
    "\n",
    "We are not using the [extensions](https://github.com/developmentseed/rio-stac/blob/0.4.2/rio_stac/stac.py#L211) argument that you can pass but we are using [`with_proj` and `with_raster`](https://github.com/developmentseed/rio-stac/blob/0.4.2/rio_stac/stac.py#L221-L222) arguments, which then use the proj and raster extensions.\n",
    "\n",
    "https://stac-extensions.github.io/projection/v1.0.0/schema.json\n",
    "\n",
    "* \"type\": \"integer\"\n",
    "* proj:epsg and proj:shape\n",
    "\n",
    "https://stac-extensions.github.io/raster/v1.1.0/schema.json\n",
    "\n",
    "* \"type\": \"integer\"\n",
    "* bands-> items -> properties -> bits_per_sample\n",
    "    * Appears bits_per_sample is missing so we don't need to be concerned with it https://github.com/developmentseed/rio-stac/blob/0.4.2/rio_stac/stac.py#L136\n",
    "* bands-> items -> properties -> histogram -> properties -> buckets"
   ]
  },
  {
   "cell_type": "markdown",
   "id": "8f0661f4",
   "metadata": {},
   "source": [
    "## 2. Determine which collections to test, fix and re-test for error\n",
    "\n",
    "Iterate through each collection and find which ones have either the raster or proj extension"
   ]
  },
  {
   "cell_type": "code",
   "execution_count": 62,
   "id": "930f4503",
   "metadata": {},
   "outputs": [
    {
     "name": "stdout",
     "output_type": "stream",
     "text": [
      "Collection 'GlobCover_09' - First item does NOT have the projection or raster extensions.\n",
      "Collection 'AfriSAR_UAVSAR_Coreg_SLC' - First item does NOT have the projection or raster extensions.\n",
      "Collection 'BIOSAR1' - First item does NOT have the projection or raster extensions.\n",
      "Collection 'AfriSAR_AGB_Maps_1681' - First item has projection and/or raster extension.\n",
      "Collection 'Landsat8_SurfaceReflectance' - First item does NOT have the projection or raster extensions.\n",
      "Collection 'ABLVIS1B' - First item has projection and/or raster extension.\n",
      "Collection 'AfriSAR_UAVSAR_Ungeocoded_Covariance' - First item does NOT have the projection or raster extensions.\n",
      "Collection 'GlobCover_05_06' - First item does NOT have the projection or raster extensions.\n",
      "Collection 'Global_PALSAR2_PALSAR_FNF' - First item does NOT have the projection or raster extensions.\n",
      "Collection 'GEDI02_A' - First item does NOT have the projection or raster extensions.\n",
      "Collection 'AFLVIS2' - First item does NOT have the projection or raster extensions.\n",
      "Collection 'AFRISAR_DLR' - First item does NOT have the projection or raster extensions.\n",
      "Collection 'icesat2-boreal' - First item has projection and/or raster extension.\n",
      "Collection 'AfriSAR_UAVSAR_Normalization_Area' - First item does NOT have the projection or raster extensions.\n",
      "'str' object has no attribute 'pop'\n",
      "GEDI_CalVal_Lidar_Data_Compressed\n",
      "Collection 'GEDI_CalVal_Lidar_Data_Compressed' - First item does NOT have the projection or raster extensions.\n",
      "Collection 'GEDI_CalVal_Field_Data' - First item does NOT have the projection or raster extensions.\n",
      "Collection 'ESACCI_Biomass_L4_AGB_V3_100m_2010' - First item does NOT have the projection or raster extensions.\n",
      "Collection 'ESACCI_Biomass_L4_AGB_V3_100m_2018' - First item does NOT have the projection or raster extensions.\n",
      "Collection 'ESACCI_Biomass_L4_AGB_V3_100m_2017' - First item does NOT have the projection or raster extensions.\n",
      "Collection 'AfriSAR_UAVSAR_Geocoded_SLC' - First item does NOT have the projection or raster extensions.\n",
      "Collection 'Global_PALSAR2_PALSAR_Mosiac' - First item does NOT have the projection or raster extensions.\n",
      "Collection 'AFRISAR_DLR2' - No items found.\n",
      "Collection 'AfriSAR_UAVSAR_KZ' - First item does NOT have the projection or raster extensions.\n",
      "Collection 'GEDI_CalVal_Lidar_Data' - First item does NOT have the projection or raster extensions.\n",
      "Collection 'GEDI02_B' - First item does NOT have the projection or raster extensions.\n",
      "Collection 'ABoVE_UAVSAR_PALSAR' - First item does NOT have the projection or raster extensions.\n",
      "Collection 'Global_Forest_Change_2000-2017' - No items found.\n"
     ]
    }
   ],
   "source": [
    "catalog_url = \"https://stac.maap-project.org\"\n",
    "\n",
    "def has_projection_extension(item):\n",
    "    return ProjectionExtension.has_extension(item)\n",
    "\n",
    "def has_raster_extension(item):\n",
    "    return RasterExtension.has_extension(item)\n",
    "\n",
    "client = Client.open(catalog_url)\n",
    "\n",
    "collections_with_extensions = []\n",
    "\n",
    "for collection in client.get_all_collections():\n",
    "    items = collection.get_items()\n",
    "    try:\n",
    "        first_item = next(iter(items), None)\n",
    "    except Exception as e:\n",
    "        print(e)\n",
    "        print(collection.id)\n",
    "        next\n",
    "\n",
    "    if first_item:\n",
    "        if has_projection_extension(first_item) or has_raster_extension(first_item):\n",
    "            print(f\"Collection '{collection.id}' - First item has projection and/or raster extension.\")\n",
    "            collections_with_extensions.append(collection.id)\n",
    "        else:\n",
    "            print(f\"Collection '{collection.id}' - First item does NOT have the projection or raster extensions.\")\n",
    "    else:\n",
    "        print(f\"Collection '{collection.id}' - No items found.\")"
   ]
  },
  {
   "cell_type": "code",
   "execution_count": 63,
   "id": "ac99a6cd",
   "metadata": {},
   "outputs": [
    {
     "data": {
      "text/plain": [
       "['AfriSAR_AGB_Maps_1681', 'ABLVIS1B', 'icesat2-boreal']"
      ]
     },
     "execution_count": 63,
     "metadata": {},
     "output_type": "execute_result"
    }
   ],
   "source": [
    "collections_with_extensions"
   ]
  },
  {
   "cell_type": "markdown",
   "id": "c61b942c",
   "metadata": {},
   "source": [
    "## 3. Test each collection fails those fields are integers"
   ]
  },
  {
   "cell_type": "code",
   "execution_count": 67,
   "id": "79715a11",
   "metadata": {},
   "outputs": [
    {
     "name": "stdout",
     "output_type": "stream",
     "text": [
      "AfriSAR_AGB_Maps_1681\n",
      "32732.0\n",
      "[101.0, 105.0]\n",
      "True\n",
      "\n",
      "\n",
      "ABLVIS1B\n",
      "no epsg code\n",
      "[512.0, 512.0]\n",
      "False\n",
      "\n",
      "\n",
      "icesat2-boreal\n",
      "no epsg code\n",
      "[3000.0, 3000.0]\n",
      "[681765.0, 228373.0, 63820.0, 21697.0, 9756.0, 4666.0, 2226.0, 760.0, 103.0, 15.0]\n",
      "True\n",
      "\n",
      "\n"
     ]
    }
   ],
   "source": [
    "# for each collection, check the proj:epsg, proj:shape are floats and \n",
    "# raster:bands\n",
    "client = Client.open(catalog_url)\n",
    "\n",
    "for collection_id in collections_with_extensions:\n",
    "    collection = client.get_collection(collection_id)\n",
    "    items = collection.get_items()\n",
    "    first_item = next(iter(items), None)\n",
    "    print(collection_id)\n",
    "    print(first_item.properties.get(\"proj:epsg\", 'no epsg code'))  # 4326.0\n",
    "    print(first_item.properties.get(\"proj:shape\", 'no shape'))\n",
    "    first_asset = first_item.assets.get('cog_default', '')\n",
    "    if first_asset:\n",
    "        print(first_asset.extra_fields['raster:bands'][0]['histogram']['buckets'])\n",
    "    print(RasterExtension.has_extension(first_item)) \n",
    "    print('\\n')"
   ]
  },
  {
   "cell_type": "markdown",
   "id": "fc144f85",
   "metadata": {},
   "source": [
    "## 4. Fix the collection"
   ]
  },
  {
   "cell_type": "code",
   "execution_count": 57,
   "id": "6748a8af",
   "metadata": {},
   "outputs": [
    {
     "name": "stdout",
     "output_type": "stream",
     "text": [
      "None\n",
      "None\n",
      "None\n"
     ]
    }
   ],
   "source": [
    "import psycopg2\n",
    "\n",
    "def connect_and_execute(database, user, password, host, port, sql):\n",
    "    conn = None\n",
    "    try:\n",
    "        conn = psycopg2.connect(\n",
    "            dbname=database,\n",
    "            user=user,\n",
    "            password=password,\n",
    "            host=host,\n",
    "            port=port\n",
    "        )\n",
    "        cursor = conn.cursor()\n",
    "        print(cursor.execute(sql))\n",
    "\n",
    "        # Fetch results if the SQL statement is a SELECT query\n",
    "        if sql.strip().lower().startswith('select'):\n",
    "            results = cursor.fetchall()\n",
    "            print(\"Results:\")\n",
    "            for row in results:\n",
    "                print(row)\n",
    "\n",
    "        conn.commit()\n",
    "        cursor.close()\n",
    "    except (Exception, psycopg2.DatabaseError) as error:\n",
    "        print(f\"Error: {error}\")\n",
    "    finally:\n",
    "        if conn is not None:\n",
    "            conn.close()\n",
    "\n",
    "fix_epsg_sql = f\"\"\"\n",
    "EXPLAIN ANALYZE\n",
    "WITH collection_items AS (\n",
    "    SELECT id\n",
    "    FROM items\n",
    "    WHERE collection = '{collection_id}'\n",
    "    AND (content->'properties'->>'proj:shape')::text ~ '(\\d+)\\.0+\\b'\n",
    ")\n",
    "UPDATE items\n",
    "SET content = jsonb_set(\n",
    "    content,\n",
    "    '{{proj:shape}}',\n",
    "    regexp_replace(\n",
    "        (content->'properties'->>'proj:shape')::text,\n",
    "        '(\\d+)\\.0+\\b',\n",
    "        '\\1',\n",
    "        'g'\n",
    "    )::jsonb\n",
    ")\n",
    "FROM collection_items\n",
    "WHERE items.id = collection_items.id;\n",
    "\"\"\"\n",
    "\n",
    "fix_shape_sql = f\"\"\"\n",
    "UPDATE items\n",
    "SET content = jsonb_set(\n",
    "    content,\n",
    "    '{{properties, proj:shape}}',\n",
    "    (\n",
    "        SELECT jsonb_agg(CAST(FLOOR(CAST(value AS NUMERIC)) AS INTEGER))\n",
    "        FROM jsonb_array_elements_text(content #> '{{properties, proj:shape}}')\n",
    "    )\n",
    ")\n",
    "WHERE collection = '{collection_id}';\n",
    "\"\"\"\n",
    "\n",
    "fix_bands_sql = f\"\"\"\n",
    "CREATE OR REPLACE FUNCTION update_buckets_to_integers()\n",
    "RETURNS VOID AS $$\n",
    "DECLARE\n",
    "    item_id TEXT;\n",
    "    bands JSONB;\n",
    "    updated_bands JSONB;\n",
    "    band JSONB;\n",
    "    index INTEGER := 0;\n",
    "BEGIN\n",
    "    FOR item_id, bands IN\n",
    "        SELECT id, content #> '{{assets, cog_default, raster:bands}}' FROM items\n",
    "        WHERE collection = '{collection_id}'\n",
    "    LOOP\n",
    "        updated_bands := '[]'::JSONB;\n",
    "        \n",
    "        FOR band IN SELECT * FROM jsonb_array_elements(bands)\n",
    "        LOOP\n",
    "            band := jsonb_set(\n",
    "                band,\n",
    "                '{{histogram, buckets}}',\n",
    "                (SELECT jsonb_agg(CAST(FLOOR(value::TEXT::NUMERIC) AS INTEGER))\n",
    "                 FROM jsonb_array_elements(band #> '{{histogram, buckets}}'))\n",
    "            );\n",
    "            updated_bands := updated_bands || band;\n",
    "        END LOOP;\n",
    "        \n",
    "        UPDATE items\n",
    "        SET content = jsonb_set(content, '{{assets, cog_default, raster:bands}}', updated_bands)\n",
    "        WHERE id = item_id;\n",
    "    END LOOP;\n",
    "END;\n",
    "$$ LANGUAGE plpgsql;\n",
    "\n",
    "/* run the FUNCTION */\n",
    "SELECT dashboard.update_buckets_to_integers();\n",
    "\"\"\"\n",
    "\n",
    "check_it_worked = f\"\"\"\n",
    "WITH raster_band_elements AS (\n",
    "    SELECT jsonb_array_elements(content #> '{{assets, cog_default, raster:bands}}') AS raster_bands\n",
    "    FROM items\n",
    "    WHERE collection = '{collection_id}'\n",
    "),\n",
    "histogram_elements AS (\n",
    "    SELECT raster_bands #> '{{histogram, buckets}}' AS buckets\n",
    "    FROM raster_band_elements\n",
    ")\n",
    "SELECT * FROM histogram_elements;\n",
    "\"\"\"\n",
    "\n",
    "# Connect to database\n",
    "host = \"veda-backend-test-postgres.coy9fgtxpaqn.us-west-2.rds.amazonaws.com\"\n",
    "database = \"postgis\"\n",
    "user = \"delta\"\n",
    "password = os.environ.get['DB_PWD']\n",
    "port = 5432\n",
    "\n",
    "# Run query\n",
    "collection_id = 's1-rtc-seasonal-composite'\n",
    "connect_and_execute(database, user, password, host, port, fix_epsg_sql)\n",
    "connect_and_execute(database, user, password, host, port, fix_shape_sql)\n",
    "connect_and_execute(database, user, password, host, port, fix_bands_sql)"
   ]
  },
  {
   "cell_type": "markdown",
   "id": "664ab3cb",
   "metadata": {},
   "source": [
    "## 5. Test it is fixed"
   ]
  },
  {
   "cell_type": "markdown",
   "id": "30763db6",
   "metadata": {},
   "source": [
    "Re-run code in part 3."
   ]
  }
 ],
 "metadata": {
  "kernelspec": {
   "display_name": "Python 3 (ipykernel)",
   "language": "python",
   "name": "python3"
  },
  "language_info": {
   "codemirror_mode": {
    "name": "ipython",
    "version": 3
   },
   "file_extension": ".py",
   "mimetype": "text/x-python",
   "name": "python",
   "nbconvert_exporter": "python",
   "pygments_lexer": "ipython3",
   "version": "3.9.7"
  }
 },
 "nbformat": 4,
 "nbformat_minor": 5
}
